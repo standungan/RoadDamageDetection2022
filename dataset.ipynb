{
 "cells": [
  {
   "cell_type": "code",
   "execution_count": null,
   "id": "d7774577-a4f1-4cc5-8017-37a3c368e861",
   "metadata": {
    "jupyter": {
     "source_hidden": true
    },
    "tags": []
   },
   "outputs": [],
   "source": [
    "import torch\n",
    "import os\n",
    "import xml.etree.ElementTree as ET\n",
    "\n",
    "from PIL import Image\n",
    "from torch.utils.data import Dataset\n",
    "from utilities import transform"
   ]
  },
  {
   "cell_type": "code",
   "execution_count": null,
   "id": "66d20e94-cbf3-4ee6-89c4-e031df922929",
   "metadata": {
    "jupyter": {
     "source_hidden": true
    },
    "tags": []
   },
   "outputs": [],
   "source": [
    "# version 1.0\n",
    "\n",
    "labels_idx = [\"D00\",\"D10\",\"D20\",\"D40\"]\n",
    "\n",
    "class RoadDamageDataset(Dataset):\n",
    "    def __init__(self, folder):\n",
    "        \n",
    "        self.dir_xmls = os.path.join(folder, \"annotations\", \"xmls\")\n",
    "        self.dir_imgs = os.path.join(folder, \"images\")\n",
    "        \n",
    "        self.annotations = [os.path.join(self.dir_xmls, xml) for xml in os.listdir(self.dir_xmls)]\n",
    "        self.images_file = [os.path.join(self.dir_imgs, img) for img in os.listdir(self.dir_imgs)]\n",
    "\n",
    "    def __getitem__(self,i):\n",
    "        \n",
    "        image = Image.open(self.images_file[i])\n",
    "        tree = ET.parse(self.annotations[i])\n",
    "        objects = tree.findall(\"object\")\n",
    "\n",
    "        bboxes = []\n",
    "        labels = []\n",
    "        \n",
    "        for i, obj in enumerate(objects):\n",
    "            objectID = \"object_{:02d}\".format(i)\n",
    "            name = obj.find(\"name\").text\n",
    "            if name == 'Repair':\n",
    "                continue\n",
    "            bbox = obj.find(\"bndbox\")\n",
    "            xmin = int(bbox.find(\"xmin\").text)\n",
    "            ymin = int(bbox.find(\"ymin\").text)\n",
    "            xmax = int(bbox.find(\"xmax\").text)\n",
    "            ymax = int(bbox.find(\"ymax\").text)\n",
    "            \n",
    "            label = labels_idx.index(name)\n",
    "            labels.append(label)\n",
    "            bboxes.append([xmin, ymin, xmax, ymax])\n",
    "        \n",
    "        bboxes = torch.FloatTensor(bboxes)\n",
    "        labels = torch.FloatTensor(labels)\n",
    "        \n",
    "        image, bboxes, labels = transform(image, bboxes, labels)\n",
    "        \n",
    "        return image, bboxes, labels\n",
    "        \n",
    "    "
   ]
  },
  {
   "cell_type": "code",
   "execution_count": null,
   "id": "6b7dcac3-a261-40ad-a924-465dc5676481",
   "metadata": {
    "jupyter": {
     "source_hidden": true
    },
    "tags": []
   },
   "outputs": [],
   "source": [
    "train_folder =\"D:\\\\Dataset\\\\CRDDC2022\\\\dataset\\\\China_MotorBike\\\\train\\\\\"\n",
    "train_RDD = RoadDamageDataset(train_folder)\n",
    "image, bboxes, labels = train_RDD[0]"
   ]
  },
  {
   "cell_type": "code",
   "execution_count": null,
   "id": "7b367764-2867-402e-b964-fb84ec9d4266",
   "metadata": {
    "jupyter": {
     "source_hidden": true
    },
    "tags": []
   },
   "outputs": [],
   "source": [
    "print(image)\n",
    "print(bboxes)\n",
    "print(labels)"
   ]
  },
  {
   "cell_type": "code",
   "execution_count": 6,
   "id": "a2cc8bd6-04bf-47c6-90a8-34344f210f26",
   "metadata": {},
   "outputs": [],
   "source": [
    "from dataset import RoadDamageDataset\n",
    "\n",
    "train_folder =\"D:\\\\Dataset\\\\CRDDC2022\\\\dataset\\\\China_MotorBike\\\\train\\\\\"\n",
    "\n",
    "train_RDD = RoadDamageDataset(train_folder)"
   ]
  },
  {
   "cell_type": "code",
   "execution_count": null,
   "id": "8f72e736-ef09-4068-b6d1-2c7fcb7c673f",
   "metadata": {},
   "outputs": [],
   "source": []
  }
 ],
 "metadata": {
  "kernelspec": {
   "display_name": "Python [conda env:deep]",
   "language": "python",
   "name": "conda-env-deep-py"
  },
  "language_info": {
   "codemirror_mode": {
    "name": "ipython",
    "version": 3
   },
   "file_extension": ".py",
   "mimetype": "text/x-python",
   "name": "python",
   "nbconvert_exporter": "python",
   "pygments_lexer": "ipython3",
   "version": "3.8.13"
  }
 },
 "nbformat": 4,
 "nbformat_minor": 5
}
